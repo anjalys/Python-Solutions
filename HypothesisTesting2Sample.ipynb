{
  "nbformat": 4,
  "nbformat_minor": 0,
  "metadata": {
    "colab": {
      "provenance": [],
      "authorship_tag": "ABX9TyO9MMUbGqN9BOdkr7O0VwXC",
      "include_colab_link": true
    },
    "kernelspec": {
      "name": "python3",
      "display_name": "Python 3"
    },
    "language_info": {
      "name": "python"
    }
  },
  "cells": [
    {
      "cell_type": "markdown",
      "metadata": {
        "id": "view-in-github",
        "colab_type": "text"
      },
      "source": [
        "<a href=\"https://colab.research.google.com/github/anjalys/Python-Solutions/blob/main/HypothesisTesting2Sample.ipynb\" target=\"_parent\"><img src=\"https://colab.research.google.com/assets/colab-badge.svg\" alt=\"Open In Colab\"/></a>"
      ]
    },
    {
      "cell_type": "markdown",
      "source": [
        "## Two-Sample Z test for a Coronavirus Dataset"
      ],
      "metadata": {
        "id": "V2y2KVxv-m69"
      }
    },
    {
      "cell_type": "markdown",
      "source": [
        "Here we can implement the Two Sample Z-Test for a corono virus data set. This is taken from John's Hopkins Repository and herer is the [link](https://github.com/CSSEGISandData/COVID-19). Although we cannot find the temperature's impact on outbreak we have taken this for the conceptual understanding of Hypothesis tesing.\n",
        "\n",
        "Added the feature of Temperature and Humidity for Latitude and Longitude using Python's Weather API - Pyweatherbit. A common perception about COVID-19 is that Warm Climate is more resistant to the corona outbreak aand we need to verify this using Hypothesis testing. Here state ourr Null Hypothesis and alternate hypothesis.\n",
        "\n",
        "*   Null Hypothesis: Temperature doesn't affect COVID-19 outbreak\n",
        "*   Alternate Hypothesis: Temperature does affect COVID-19 outbreak\n",
        "\n",
        "Here we are considering temperature below 24 as Cold weather and above as warm weather in our dataset.\n"
      ],
      "metadata": {
        "id": "Hg3tDhRk-bxy"
      }
    },
    {
      "cell_type": "code",
      "execution_count": 39,
      "metadata": {
        "id": "vSerQx22rzrX"
      },
      "outputs": [],
      "source": [
        "import pandas as pd\n",
        "import numpy as np"
      ]
    },
    {
      "cell_type": "code",
      "source": [
        "corona = pd.read_csv(\"Corona_Updated.csv\")\n",
        "corona.head()"
      ],
      "metadata": {
        "colab": {
          "base_uri": "https://localhost:8080/",
          "height": 326
        },
        "id": "kkWzGnO4sLRC",
        "outputId": "c24e6a68-4f3f-42cc-876c-78350189c878"
      },
      "execution_count": 49,
      "outputs": [
        {
          "output_type": "execute_result",
          "data": {
            "text/plain": [
              "  Province/State              Country/Region          Last Update  Confirmed  \\\n",
              "0          Hubei              Mainland China  2020-03-10T15:13:05      67760   \n",
              "1            NaN                       Italy  2020-03-10T17:53:02      10149   \n",
              "2            NaN  Iran (Islamic Republic of)  2020-03-10T19:13:20       8042   \n",
              "3            NaN           Republic of Korea  2020-03-10T19:13:20       7513   \n",
              "4            NaN                      France  2020-03-10T18:53:02       1784   \n",
              "\n",
              "   Deaths  Recovered  Latitude  Longitude  Temprature  Humidity  Temp_Cat  \\\n",
              "0    3024      47743   30.9756   112.2707        12.5        86         1   \n",
              "1     631        724   43.0000    12.0000        12.9        64         1   \n",
              "2     291       2731   32.0000    53.0000        11.9         9         0   \n",
              "3      54        247   36.0000   128.0000         4.9        41         0   \n",
              "4      33         12   47.0000     2.0000        11.9        93         0   \n",
              "\n",
              "   Humid_Cat  \n",
              "0          1  \n",
              "1          1  \n",
              "2          0  \n",
              "3          0  \n",
              "4          0  "
            ],
            "text/html": [
              "\n",
              "  <div id=\"df-62c338cc-0405-4e3d-91a9-9d3c43a3fd6a\" class=\"colab-df-container\">\n",
              "    <div>\n",
              "<style scoped>\n",
              "    .dataframe tbody tr th:only-of-type {\n",
              "        vertical-align: middle;\n",
              "    }\n",
              "\n",
              "    .dataframe tbody tr th {\n",
              "        vertical-align: top;\n",
              "    }\n",
              "\n",
              "    .dataframe thead th {\n",
              "        text-align: right;\n",
              "    }\n",
              "</style>\n",
              "<table border=\"1\" class=\"dataframe\">\n",
              "  <thead>\n",
              "    <tr style=\"text-align: right;\">\n",
              "      <th></th>\n",
              "      <th>Province/State</th>\n",
              "      <th>Country/Region</th>\n",
              "      <th>Last Update</th>\n",
              "      <th>Confirmed</th>\n",
              "      <th>Deaths</th>\n",
              "      <th>Recovered</th>\n",
              "      <th>Latitude</th>\n",
              "      <th>Longitude</th>\n",
              "      <th>Temprature</th>\n",
              "      <th>Humidity</th>\n",
              "      <th>Temp_Cat</th>\n",
              "      <th>Humid_Cat</th>\n",
              "    </tr>\n",
              "  </thead>\n",
              "  <tbody>\n",
              "    <tr>\n",
              "      <th>0</th>\n",
              "      <td>Hubei</td>\n",
              "      <td>Mainland China</td>\n",
              "      <td>2020-03-10T15:13:05</td>\n",
              "      <td>67760</td>\n",
              "      <td>3024</td>\n",
              "      <td>47743</td>\n",
              "      <td>30.9756</td>\n",
              "      <td>112.2707</td>\n",
              "      <td>12.5</td>\n",
              "      <td>86</td>\n",
              "      <td>1</td>\n",
              "      <td>1</td>\n",
              "    </tr>\n",
              "    <tr>\n",
              "      <th>1</th>\n",
              "      <td>NaN</td>\n",
              "      <td>Italy</td>\n",
              "      <td>2020-03-10T17:53:02</td>\n",
              "      <td>10149</td>\n",
              "      <td>631</td>\n",
              "      <td>724</td>\n",
              "      <td>43.0000</td>\n",
              "      <td>12.0000</td>\n",
              "      <td>12.9</td>\n",
              "      <td>64</td>\n",
              "      <td>1</td>\n",
              "      <td>1</td>\n",
              "    </tr>\n",
              "    <tr>\n",
              "      <th>2</th>\n",
              "      <td>NaN</td>\n",
              "      <td>Iran (Islamic Republic of)</td>\n",
              "      <td>2020-03-10T19:13:20</td>\n",
              "      <td>8042</td>\n",
              "      <td>291</td>\n",
              "      <td>2731</td>\n",
              "      <td>32.0000</td>\n",
              "      <td>53.0000</td>\n",
              "      <td>11.9</td>\n",
              "      <td>9</td>\n",
              "      <td>0</td>\n",
              "      <td>0</td>\n",
              "    </tr>\n",
              "    <tr>\n",
              "      <th>3</th>\n",
              "      <td>NaN</td>\n",
              "      <td>Republic of Korea</td>\n",
              "      <td>2020-03-10T19:13:20</td>\n",
              "      <td>7513</td>\n",
              "      <td>54</td>\n",
              "      <td>247</td>\n",
              "      <td>36.0000</td>\n",
              "      <td>128.0000</td>\n",
              "      <td>4.9</td>\n",
              "      <td>41</td>\n",
              "      <td>0</td>\n",
              "      <td>0</td>\n",
              "    </tr>\n",
              "    <tr>\n",
              "      <th>4</th>\n",
              "      <td>NaN</td>\n",
              "      <td>France</td>\n",
              "      <td>2020-03-10T18:53:02</td>\n",
              "      <td>1784</td>\n",
              "      <td>33</td>\n",
              "      <td>12</td>\n",
              "      <td>47.0000</td>\n",
              "      <td>2.0000</td>\n",
              "      <td>11.9</td>\n",
              "      <td>93</td>\n",
              "      <td>0</td>\n",
              "      <td>0</td>\n",
              "    </tr>\n",
              "  </tbody>\n",
              "</table>\n",
              "</div>\n",
              "    <div class=\"colab-df-buttons\">\n",
              "\n",
              "  <div class=\"colab-df-container\">\n",
              "    <button class=\"colab-df-convert\" onclick=\"convertToInteractive('df-62c338cc-0405-4e3d-91a9-9d3c43a3fd6a')\"\n",
              "            title=\"Convert this dataframe to an interactive table.\"\n",
              "            style=\"display:none;\">\n",
              "\n",
              "  <svg xmlns=\"http://www.w3.org/2000/svg\" height=\"24px\" viewBox=\"0 -960 960 960\">\n",
              "    <path d=\"M120-120v-720h720v720H120Zm60-500h600v-160H180v160Zm220 220h160v-160H400v160Zm0 220h160v-160H400v160ZM180-400h160v-160H180v160Zm440 0h160v-160H620v160ZM180-180h160v-160H180v160Zm440 0h160v-160H620v160Z\"/>\n",
              "  </svg>\n",
              "    </button>\n",
              "\n",
              "  <style>\n",
              "    .colab-df-container {\n",
              "      display:flex;\n",
              "      gap: 12px;\n",
              "    }\n",
              "\n",
              "    .colab-df-convert {\n",
              "      background-color: #E8F0FE;\n",
              "      border: none;\n",
              "      border-radius: 50%;\n",
              "      cursor: pointer;\n",
              "      display: none;\n",
              "      fill: #1967D2;\n",
              "      height: 32px;\n",
              "      padding: 0 0 0 0;\n",
              "      width: 32px;\n",
              "    }\n",
              "\n",
              "    .colab-df-convert:hover {\n",
              "      background-color: #E2EBFA;\n",
              "      box-shadow: 0px 1px 2px rgba(60, 64, 67, 0.3), 0px 1px 3px 1px rgba(60, 64, 67, 0.15);\n",
              "      fill: #174EA6;\n",
              "    }\n",
              "\n",
              "    .colab-df-buttons div {\n",
              "      margin-bottom: 4px;\n",
              "    }\n",
              "\n",
              "    [theme=dark] .colab-df-convert {\n",
              "      background-color: #3B4455;\n",
              "      fill: #D2E3FC;\n",
              "    }\n",
              "\n",
              "    [theme=dark] .colab-df-convert:hover {\n",
              "      background-color: #434B5C;\n",
              "      box-shadow: 0px 1px 3px 1px rgba(0, 0, 0, 0.15);\n",
              "      filter: drop-shadow(0px 1px 2px rgba(0, 0, 0, 0.3));\n",
              "      fill: #FFFFFF;\n",
              "    }\n",
              "  </style>\n",
              "\n",
              "    <script>\n",
              "      const buttonEl =\n",
              "        document.querySelector('#df-62c338cc-0405-4e3d-91a9-9d3c43a3fd6a button.colab-df-convert');\n",
              "      buttonEl.style.display =\n",
              "        google.colab.kernel.accessAllowed ? 'block' : 'none';\n",
              "\n",
              "      async function convertToInteractive(key) {\n",
              "        const element = document.querySelector('#df-62c338cc-0405-4e3d-91a9-9d3c43a3fd6a');\n",
              "        const dataTable =\n",
              "          await google.colab.kernel.invokeFunction('convertToInteractive',\n",
              "                                                    [key], {});\n",
              "        if (!dataTable) return;\n",
              "\n",
              "        const docLinkHtml = 'Like what you see? Visit the ' +\n",
              "          '<a target=\"_blank\" href=https://colab.research.google.com/notebooks/data_table.ipynb>data table notebook</a>'\n",
              "          + ' to learn more about interactive tables.';\n",
              "        element.innerHTML = '';\n",
              "        dataTable['output_type'] = 'display_data';\n",
              "        await google.colab.output.renderOutput(dataTable, element);\n",
              "        const docLink = document.createElement('div');\n",
              "        docLink.innerHTML = docLinkHtml;\n",
              "        element.appendChild(docLink);\n",
              "      }\n",
              "    </script>\n",
              "  </div>\n",
              "\n",
              "\n",
              "<div id=\"df-3f24ea56-9e05-41f7-a0db-acd7721ee909\">\n",
              "  <button class=\"colab-df-quickchart\" onclick=\"quickchart('df-3f24ea56-9e05-41f7-a0db-acd7721ee909')\"\n",
              "            title=\"Suggest charts\"\n",
              "            style=\"display:none;\">\n",
              "\n",
              "<svg xmlns=\"http://www.w3.org/2000/svg\" height=\"24px\"viewBox=\"0 0 24 24\"\n",
              "     width=\"24px\">\n",
              "    <g>\n",
              "        <path d=\"M19 3H5c-1.1 0-2 .9-2 2v14c0 1.1.9 2 2 2h14c1.1 0 2-.9 2-2V5c0-1.1-.9-2-2-2zM9 17H7v-7h2v7zm4 0h-2V7h2v10zm4 0h-2v-4h2v4z\"/>\n",
              "    </g>\n",
              "</svg>\n",
              "  </button>\n",
              "\n",
              "<style>\n",
              "  .colab-df-quickchart {\n",
              "      --bg-color: #E8F0FE;\n",
              "      --fill-color: #1967D2;\n",
              "      --hover-bg-color: #E2EBFA;\n",
              "      --hover-fill-color: #174EA6;\n",
              "      --disabled-fill-color: #AAA;\n",
              "      --disabled-bg-color: #DDD;\n",
              "  }\n",
              "\n",
              "  [theme=dark] .colab-df-quickchart {\n",
              "      --bg-color: #3B4455;\n",
              "      --fill-color: #D2E3FC;\n",
              "      --hover-bg-color: #434B5C;\n",
              "      --hover-fill-color: #FFFFFF;\n",
              "      --disabled-bg-color: #3B4455;\n",
              "      --disabled-fill-color: #666;\n",
              "  }\n",
              "\n",
              "  .colab-df-quickchart {\n",
              "    background-color: var(--bg-color);\n",
              "    border: none;\n",
              "    border-radius: 50%;\n",
              "    cursor: pointer;\n",
              "    display: none;\n",
              "    fill: var(--fill-color);\n",
              "    height: 32px;\n",
              "    padding: 0;\n",
              "    width: 32px;\n",
              "  }\n",
              "\n",
              "  .colab-df-quickchart:hover {\n",
              "    background-color: var(--hover-bg-color);\n",
              "    box-shadow: 0 1px 2px rgba(60, 64, 67, 0.3), 0 1px 3px 1px rgba(60, 64, 67, 0.15);\n",
              "    fill: var(--button-hover-fill-color);\n",
              "  }\n",
              "\n",
              "  .colab-df-quickchart-complete:disabled,\n",
              "  .colab-df-quickchart-complete:disabled:hover {\n",
              "    background-color: var(--disabled-bg-color);\n",
              "    fill: var(--disabled-fill-color);\n",
              "    box-shadow: none;\n",
              "  }\n",
              "\n",
              "  .colab-df-spinner {\n",
              "    border: 2px solid var(--fill-color);\n",
              "    border-color: transparent;\n",
              "    border-bottom-color: var(--fill-color);\n",
              "    animation:\n",
              "      spin 1s steps(1) infinite;\n",
              "  }\n",
              "\n",
              "  @keyframes spin {\n",
              "    0% {\n",
              "      border-color: transparent;\n",
              "      border-bottom-color: var(--fill-color);\n",
              "      border-left-color: var(--fill-color);\n",
              "    }\n",
              "    20% {\n",
              "      border-color: transparent;\n",
              "      border-left-color: var(--fill-color);\n",
              "      border-top-color: var(--fill-color);\n",
              "    }\n",
              "    30% {\n",
              "      border-color: transparent;\n",
              "      border-left-color: var(--fill-color);\n",
              "      border-top-color: var(--fill-color);\n",
              "      border-right-color: var(--fill-color);\n",
              "    }\n",
              "    40% {\n",
              "      border-color: transparent;\n",
              "      border-right-color: var(--fill-color);\n",
              "      border-top-color: var(--fill-color);\n",
              "    }\n",
              "    60% {\n",
              "      border-color: transparent;\n",
              "      border-right-color: var(--fill-color);\n",
              "    }\n",
              "    80% {\n",
              "      border-color: transparent;\n",
              "      border-right-color: var(--fill-color);\n",
              "      border-bottom-color: var(--fill-color);\n",
              "    }\n",
              "    90% {\n",
              "      border-color: transparent;\n",
              "      border-bottom-color: var(--fill-color);\n",
              "    }\n",
              "  }\n",
              "</style>\n",
              "\n",
              "  <script>\n",
              "    async function quickchart(key) {\n",
              "      const quickchartButtonEl =\n",
              "        document.querySelector('#' + key + ' button');\n",
              "      quickchartButtonEl.disabled = true;  // To prevent multiple clicks.\n",
              "      quickchartButtonEl.classList.add('colab-df-spinner');\n",
              "      try {\n",
              "        const charts = await google.colab.kernel.invokeFunction(\n",
              "            'suggestCharts', [key], {});\n",
              "      } catch (error) {\n",
              "        console.error('Error during call to suggestCharts:', error);\n",
              "      }\n",
              "      quickchartButtonEl.classList.remove('colab-df-spinner');\n",
              "      quickchartButtonEl.classList.add('colab-df-quickchart-complete');\n",
              "    }\n",
              "    (() => {\n",
              "      let quickchartButtonEl =\n",
              "        document.querySelector('#df-3f24ea56-9e05-41f7-a0db-acd7721ee909 button');\n",
              "      quickchartButtonEl.style.display =\n",
              "        google.colab.kernel.accessAllowed ? 'block' : 'none';\n",
              "    })();\n",
              "  </script>\n",
              "</div>\n",
              "\n",
              "    </div>\n",
              "  </div>\n"
            ],
            "application/vnd.google.colaboratory.intrinsic+json": {
              "type": "dataframe",
              "variable_name": "corona",
              "summary": "{\n  \"name\": \"corona\",\n  \"rows\": 206,\n  \"fields\": [\n    {\n      \"column\": \"Province/State\",\n      \"properties\": {\n        \"dtype\": \"category\",\n        \"num_unique_values\": 99,\n        \"samples\": [\n          \"Arizona\",\n          \"Grand Princess\",\n          \"North Dakota\"\n        ],\n        \"semantic_type\": \"\",\n        \"description\": \"\"\n      }\n    },\n    {\n      \"column\": \"Country/Region\",\n      \"properties\": {\n        \"dtype\": \"string\",\n        \"num_unique_values\": 115,\n        \"samples\": [\n          \"Tunisia\",\n          \"France\",\n          \"Philippines\"\n        ],\n        \"semantic_type\": \"\",\n        \"description\": \"\"\n      }\n    },\n    {\n      \"column\": \"Last Update\",\n      \"properties\": {\n        \"dtype\": \"object\",\n        \"num_unique_values\": 101,\n        \"samples\": [\n          \"2020-03-08T04:53:03\",\n          \"2020-02-21T04:43:02\",\n          \"2020-03-10T10:13:41\"\n        ],\n        \"semantic_type\": \"\",\n        \"description\": \"\"\n      }\n    },\n    {\n      \"column\": \"Confirmed\",\n      \"properties\": {\n        \"dtype\": \"number\",\n        \"std\": 4822,\n        \"min\": 0,\n        \"max\": 67760,\n        \"num_unique_values\": 93,\n        \"samples\": [\n          133,\n          400,\n          56\n        ],\n        \"semantic_type\": \"\",\n        \"description\": \"\"\n      }\n    },\n    {\n      \"column\": \"Deaths\",\n      \"properties\": {\n        \"dtype\": \"number\",\n        \"std\": 215,\n        \"min\": 0,\n        \"max\": 3024,\n        \"num_unique_values\": 18,\n        \"samples\": [\n          3024,\n          631,\n          22\n        ],\n        \"semantic_type\": \"\",\n        \"description\": \"\"\n      }\n    },\n    {\n      \"column\": \"Recovered\",\n      \"properties\": {\n        \"dtype\": \"number\",\n        \"std\": 3332,\n        \"min\": 0,\n        \"max\": 47743,\n        \"num_unique_values\": 52,\n        \"samples\": [\n          3,\n          91,\n          16\n        ],\n        \"semantic_type\": \"\",\n        \"description\": \"\"\n      }\n    },\n    {\n      \"column\": \"Latitude\",\n      \"properties\": {\n        \"dtype\": \"number\",\n        \"std\": 21.305149332938555,\n        \"min\": -41.4545,\n        \"max\": 64.9631,\n        \"num_unique_values\": 201,\n        \"samples\": [\n          45.1667,\n          32.9711,\n          56.2639\n        ],\n        \"semantic_type\": \"\",\n        \"description\": \"\"\n      }\n    },\n    {\n      \"column\": \"Longitude\",\n      \"properties\": {\n        \"dtype\": \"number\",\n        \"std\": 84.57629121010656,\n        \"min\": -157.4983,\n        \"max\": 174.886,\n        \"num_unique_values\": 204,\n        \"samples\": [\n          119.455,\n          120.0934,\n          -116.5765\n        ],\n        \"semantic_type\": \"\",\n        \"description\": \"\"\n      }\n    },\n    {\n      \"column\": \"Temprature\",\n      \"properties\": {\n        \"dtype\": \"number\",\n        \"std\": 10.229762727713142,\n        \"min\": -21.9,\n        \"max\": 33.1,\n        \"num_unique_values\": 161,\n        \"samples\": [\n          19.2,\n          28.7,\n          5.6\n        ],\n        \"semantic_type\": \"\",\n        \"description\": \"\"\n      }\n    },\n    {\n      \"column\": \"Humidity\",\n      \"properties\": {\n        \"dtype\": \"number\",\n        \"std\": 21,\n        \"min\": 6,\n        \"max\": 98,\n        \"num_unique_values\": 69,\n        \"samples\": [\n          85,\n          86,\n          44\n        ],\n        \"semantic_type\": \"\",\n        \"description\": \"\"\n      }\n    },\n    {\n      \"column\": \"Temp_Cat\",\n      \"properties\": {\n        \"dtype\": \"number\",\n        \"std\": 0,\n        \"min\": 0,\n        \"max\": 1,\n        \"num_unique_values\": 2,\n        \"samples\": [\n          0,\n          1\n        ],\n        \"semantic_type\": \"\",\n        \"description\": \"\"\n      }\n    },\n    {\n      \"column\": \"Humid_Cat\",\n      \"properties\": {\n        \"dtype\": \"number\",\n        \"std\": 0,\n        \"min\": 0,\n        \"max\": 1,\n        \"num_unique_values\": 2,\n        \"samples\": [\n          0,\n          1\n        ],\n        \"semantic_type\": \"\",\n        \"description\": \"\"\n      }\n    }\n  ]\n}"
            }
          },
          "metadata": {},
          "execution_count": 49
        }
      ]
    },
    {
      "cell_type": "code",
      "source": [
        "corona['Temp_Cat'] = corona['Temprature'].apply(lambda x:0 if x < 24 else 1)\n",
        "corona_t = corona[['Confirmed', 'Temp_Cat']]"
      ],
      "metadata": {
        "id": "enS6eHnAzDp3"
      },
      "execution_count": 51,
      "outputs": []
    },
    {
      "cell_type": "code",
      "source": [
        "d1 = corona_t[corona_t['Temp_Cat'] == 1]['Confirmed']\n",
        "d2 = corona_t[corona_t['Temp_Cat'] == 0]['Confirmed']"
      ],
      "metadata": {
        "id": "lrmjt9bo4sjY"
      },
      "execution_count": 52,
      "outputs": []
    },
    {
      "cell_type": "code",
      "source": [
        "m1, m2 = d1.mean(), d2.mean() #mean\n",
        "sd1, sd2 = d1.std(), d2.std() #standard deviation\n",
        "n1, n2 = d1.shape[0], d2.shape[0] #size\n",
        "print(m1, m2, sd1, sd2, n1, n2)"
      ],
      "metadata": {
        "colab": {
          "base_uri": "https://localhost:8080/"
        },
        "id": "hTlUyP5u4sMk",
        "outputId": "08b64132-f3d3-4011-f874-25b360d1219d"
      },
      "execution_count": 55,
      "outputs": [
        {
          "output_type": "stream",
          "name": "stdout",
          "text": [
            "26.548387096774192 672.9085714285715 45.93969867095881 5228.628797929271 31 175\n"
          ]
        }
      ]
    },
    {
      "cell_type": "code",
      "source": [
        "from scipy import stats\n",
        "def TwoSampZ(X1, X2, sigma1, sigma2, N1, N2):\n",
        "    ovr_sigma = np.sqrt((sigma1**2/N1)+(sigma2**2/N2))\n",
        "    z = (X1-X2)/ovr_sigma\n",
        "    p = 2*(1 - stats.norm.cdf(abs(z)))\n",
        "    return z, p"
      ],
      "metadata": {
        "id": "9bYemqan7b46"
      },
      "execution_count": 56,
      "outputs": []
    },
    {
      "cell_type": "code",
      "source": [
        "z, p = TwoSampZ(m1, m2, sd1, sd2, n1, n2)\n",
        "z_score = np.round(z, 6)\n",
        "p_value = np.round(p, 6)\n",
        "print(z_score, p_value)"
      ],
      "metadata": {
        "colab": {
          "base_uri": "https://localhost:8080/"
        },
        "id": "7TCCKp5y2IDq",
        "outputId": "5c8eeacf-5b3b-413b-a140-f981eb76f886"
      },
      "execution_count": 57,
      "outputs": [
        {
          "output_type": "stream",
          "name": "stdout",
          "text": [
            "-1.634975 0.102054\n"
          ]
        }
      ]
    },
    {
      "cell_type": "code",
      "source": [
        "if p_value < 0.05:\n",
        "    Hypothesis_status = \"Reject Null Hypothesis\"\n",
        "else:\n",
        "    Hypothesis_status = \"Do not reject Null Hypothesis\"\n",
        "\n",
        "print(p_value)\n",
        "print(Hypothesis_status)"
      ],
      "metadata": {
        "colab": {
          "base_uri": "https://localhost:8080/"
        },
        "id": "EwjoSt6D8_2E",
        "outputId": "4677efb8-1240-4780-b220-7bb855b8f7f2"
      },
      "execution_count": 58,
      "outputs": [
        {
          "output_type": "stream",
          "name": "stdout",
          "text": [
            "0.102054\n",
            "Do not reject Null Hypothesis\n"
          ]
        }
      ]
    },
    {
      "cell_type": "markdown",
      "source": [
        "Here, we do not have significant evidence to reject our null hypothesis that temperature doesn't affect Covid-19 outbreak.\n",
        "\n",
        "There are certain limitations of the Z-test for COVID-19 datasets.\n",
        "\n",
        "*   Sample data may not be a well representative of population data.\n",
        "*   Sample variance may not be a good estimator of population variance.\n",
        "*   Socio-economic reasons.\n",
        "*   Early breakout in certain places.\n",
        "*   Variability in state's capacity to deal with the pandemic.\n"
      ],
      "metadata": {
        "id": "aRMdDmzn-ZpG"
      }
    }
  ]
}